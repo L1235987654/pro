{
 "cells": [
  {
   "cell_type": "code",
   "execution_count": null,
   "id": "d15b40ea-9996-4d55-a4c5-292d5ba1ad81",
   "metadata": {},
   "outputs": [],
   "source": [
    "import pandas as pd\n",
    "import mysql.connector as sql\n",
    "import streamlit as st\n",
    "import plotly.express as px\n",
    "import os\n",
    "import json"
   ]
  },
  {
   "cell_type": "code",
   "execution_count": null,
   "id": "37bc95c4-865b-475a-9fb4-634d0d95a731",
   "metadata": {},
   "outputs": [],
   "source": [
    "path1 = \"C:/Users/DELL/Desktop/phonepe/pulse-master/data/aggregated/transaction/country/india/2018/\"\n",
    "agg_trans_list = os.listdir(path1)\n",
    "\n",
    "columns1 = {'State': [], 'Year': [], 'Quarter': [], 'Transaction_type': [], 'Transaction_count': [],\n",
    "            'Transaction_amount': []}\n",
    "for state in agg_trans_list:\n",
    "    cur_state = path1 + state + \"/\"\n",
    "    agg_year_list = os.listdir(cur_state)\n",
    "    \n",
    "    for year in agg_year_list:\n",
    "        cur_year = cur_state + year + \"/\"\n",
    "        agg_file_list = os.listdir(cur_year)\n",
    "        \n",
    "        for file in agg_file_list:\n",
    "            cur_file = cur_year + file\n",
    "            data = open(cur_file, 'r')\n",
    "            A = json.load(data)\n",
    "            \n",
    "            for i in A['data']['transactionData']:\n",
    "                name = i['name']\n",
    "                count = i['paymentInstruments'][0]['count']\n",
    "                amount = i['paymentInstruments'][0]['amount']\n",
    "                columns1['Transaction_type'].append(name)\n",
    "                columns1['Transaction_count'].append(count)\n",
    "                columns1['Transaction_amount'].append(amount)\n",
    "                columns1['State'].append(state)\n",
    "                columns1['Year'].append(year)\n",
    "                columns1['Quarter'].append(int(file.strip('.json')))\n",
    "                \n",
    "df_agg_trans = pd.DataFrame(columns1)"
   ]
  },
  {
   "cell_type": "code",
   "execution_count": null,
   "id": "58a04733-86c6-4dcc-9e4c-3ceca020318d",
   "metadata": {},
   "outputs": [],
   "source": [
    "df_agg_trans.shape"
   ]
  },
  {
   "cell_type": "code",
   "execution_count": null,
   "id": "c4f78b37-06d5-45e9-adc7-9ad6f90c298b",
   "metadata": {},
   "outputs": [],
   "source": [
    "path2 = \"C:\\Users\\DELL\\Desktop\\phonepe\\pulse-master\\data\\aggregated\\user\\country\\india\\2018\\1.json\"\n",
    "\n",
    "agg_user_list = os.listdir(path2)\n",
    "\n",
    "columns2 = {'State': [], 'Year': [], 'Quarter': [], 'Brands': [], 'Count': [],\n",
    "            'Percentage': []}\n",
    "for state in agg_user_list:\n",
    "    cur_state = path2 + state + \"/\"\n",
    "    agg_year_list = os.listdir(cur_state)\n",
    "    \n",
    "    for year in agg_year_list:\n",
    "        cur_year = cur_state + year + \"/\"\n",
    "        agg_file_list = os.listdir(cur_year)\n",
    "\n",
    "        for file in agg_file_list:\n",
    "            cur_file = cur_year + file\n",
    "            data = open(cur_file, 'r')\n",
    "            B = json.load(data)\n",
    "            try:\n",
    "                for i in B[\"data\"][\"usersByDevice\"]:\n",
    "                    brand_name = i[\"brand\"]\n",
    "                    counts = i[\"count\"]\n",
    "                    percents = i[\"percentage\"]\n",
    "                    columns2[\"Brands\"].append(brand_name)\n",
    "                    columns2[\"Count\"].append(counts)\n",
    "                    columns2[\"Percentage\"].append(percents)\n",
    "                    columns2[\"State\"].append(state)\n",
    "                    columns2[\"Year\"].append(year)\n",
    "                    columns2[\"Quarter\"].append(int(file.strip('.json')))\n",
    "            except:\n",
    "                pass\n",
    "df_agg_user = pd.DataFrame(columns2)"
   ]
  },
  {
   "cell_type": "code",
   "execution_count": null,
   "id": "e30921ef-0c7b-422f-b9b0-8ffc316d387c",
   "metadata": {},
   "outputs": [],
   "source": [
    "path3 = \"C:\\Users\\DELL\\Desktop\\phonepe\\pulse-master\\data\\map\\transaction\\hover\\country\\india\\2018\"\n",
    "\n",
    "map_trans_list = os.listdir(path3)\n",
    "\n",
    "columns3 = {'State': [], 'Year': [], 'Quarter': [], 'District': [], 'Count': [],\n",
    "            'Amount': []}\n",
    "\n",
    "for state in map_trans_list:\n",
    "    cur_state = path3 + state + \"/\"\n",
    "    map_year_list = os.listdir(cur_state)\n",
    "    \n",
    "    for year in map_year_list:\n",
    "        cur_year = cur_state + year + \"/\"\n",
    "        map_file_list = os.listdir(cur_year)\n",
    "        \n",
    "        for file in map_file_list:\n",
    "            cur_file = cur_year + file\n",
    "            data = open(cur_file, 'r')\n",
    "            C = json.load(data)\n",
    "            \n",
    "            for i in C[\"data\"][\"hoverDataList\"]:\n",
    "                district = i[\"name\"]\n",
    "                count = i[\"metric\"][0][\"count\"]\n",
    "                amount = i[\"metric\"][0][\"amount\"]\n",
    "                columns3[\"District\"].append(district)\n",
    "                columns3[\"Count\"].append(count)\n",
    "                columns3[\"Amount\"].append(amount)\n",
    "                columns3['State'].append(state)\n",
    "                columns3['Year'].append(year)\n",
    "                columns3['Quarter'].append(int(file.strip('.json')))\n",
    "                \n",
    "df_map_trans = pd.DataFrame(columns3)"
   ]
  },
  {
   "cell_type": "code",
   "execution_count": null,
   "id": "7163d506-673b-47c5-86af-46c2e0212410",
   "metadata": {},
   "outputs": [],
   "source": [
    "df_map_trans"
   ]
  },
  {
   "cell_type": "code",
   "execution_count": null,
   "id": "9bacbaeb-a4a4-4dd1-ac55-a9bc8c34feca",
   "metadata": {},
   "outputs": [],
   "source": [
    "path4 = \"C:/Users/Project_3_PhonepePulse/Phonepe_data/data/map/user/hover/country/india/state/\"\n",
    "\n",
    "map_user_list = os.listdir(path4)\n",
    "\n",
    "columns4 = {\"State\": [], \"Year\": [], \"Quarter\": [], \"District\": [],\n",
    "            \"RegisteredUser\": [], \"AppOpens\": []}\n",
    "\n",
    "for state in map_user_list:\n",
    "    cur_state = path4 + state + \"/\"\n",
    "    map_year_list = os.listdir(cur_state)\n",
    "    \n",
    "    for year in map_year_list:\n",
    "        cur_year = cur_state + year + \"/\"\n",
    "        map_file_list = os.listdir(cur_year)\n",
    "        \n",
    "        for file in map_file_list:\n",
    "            cur_file = cur_year + file\n",
    "            data = open(cur_file, 'r')\n",
    "            D = json.load(data)\n",
    "            \n",
    "            for i in D[\"data\"][\"hoverData\"].items():\n",
    "                district = i[0]\n",
    "                registereduser = i[1][\"registeredUsers\"]\n",
    "                appOpens = i[1]['appOpens']\n",
    "                columns4[\"District\"].append(district)\n",
    "                columns4[\"RegisteredUser\"].append(registereduser)\n",
    "                columns4[\"AppOpens\"].append(appOpens)\n",
    "                columns4['State'].append(state)\n",
    "                columns4['Year'].append(year)\n",
    "                columns4['Quarter'].append(int(file.strip('.json')))\n",
    "                \n",
    "df_map_user = pd.DataFrame(columns4)"
   ]
  },
  {
   "cell_type": "code",
   "execution_count": null,
   "id": "22e5a409-4dbd-46e0-95ed-38cae7b0a215",
   "metadata": {},
   "outputs": [],
   "source": [
    "df_map_user"
   ]
  },
  {
   "cell_type": "code",
   "execution_count": null,
   "id": "d452ca89-496c-40ff-82de-d7be2a516e64",
   "metadata": {},
   "outputs": [],
   "source": [
    "path5 = \"C:\\Users\\DELL\\Desktop\\phonepe\\pulse-master\\data\\top\\transaction\\country\\india\\2018\"\n",
    "\n",
    "top_trans_list = os.listdir(path5)\n",
    "columns5 = {'State': [], 'Year': [], 'Quarter': [], 'Pincode': [], 'Transaction_count': [],\n",
    "            'Transaction_amount': []}\n",
    "\n",
    "for state in top_trans_list:\n",
    "    cur_state = path5 + state + \"/\"\n",
    "    top_year_list = os.listdir(cur_state)\n",
    "    \n",
    "    for year in top_year_list:\n",
    "        cur_year = cur_state + year + \"/\"\n",
    "        top_file_list = os.listdir(cur_year)\n",
    "        \n",
    "        for file in top_file_list:\n",
    "            cur_file = cur_year + file\n",
    "            data = open(cur_file, 'r')\n",
    "            E = json.load(data)\n",
    "            \n",
    "            for i in E['data']['pincodes']:\n",
    "                name = i['entityName']\n",
    "                count = i['metric']['count']\n",
    "                amount = i['metric']['amount']\n",
    "                columns5['Pincode'].append(name)\n",
    "                columns5['Transaction_count'].append(count)\n",
    "                columns5['Transaction_amount'].append(amount)\n",
    "                columns5['State'].append(state)\n",
    "                columns5['Year'].append(year)\n",
    "                columns5['Quarter'].append(int(file.strip('.json')))\n",
    "df_top_trans = pd.DataFrame(columns5)"
   ]
  },
  {
   "cell_type": "code",
   "execution_count": null,
   "id": "1cacbbeb-98b0-4722-84ee-d3809b2ea66f",
   "metadata": {},
   "outputs": [],
   "source": [
    "df_top_trans"
   ]
  },
  {
   "cell_type": "code",
   "execution_count": null,
   "id": "a467a230-d219-4f26-add3-c7d39b999cb1",
   "metadata": {},
   "outputs": [],
   "source": [
    "path6 = \"C:\\Users\\DELL\\Desktop\\phonepe\\pulse-master\\data\\top\\user\\country\\india\\2018\"\n",
    "top_user_list = os.listdir(path6)\n",
    "columns6 = {'State': [], 'Year': [], 'Quarter': [], 'Pincode': [],\n",
    "            'RegisteredUsers': []}\n",
    "\n",
    "for state in top_user_list:\n",
    "    cur_state = path6 + state + \"/\"\n",
    "    top_year_list = os.listdir(cur_state)\n",
    "    \n",
    "    for year in top_year_list:\n",
    "        cur_year = cur_state + year + \"/\"\n",
    "        top_file_list = os.listdir(cur_year)\n",
    "        \n",
    "        for file in top_file_list:\n",
    "            cur_file = cur_year + file\n",
    "            data = open(cur_file, 'r')\n",
    "            F = json.load(data)\n",
    "            \n",
    "            for i in F['data']['pincodes']:\n",
    "                name = i['name']\n",
    "                registeredUsers = i['registeredUsers']\n",
    "                columns6['Pincode'].append(name)\n",
    "                columns6['RegisteredUsers'].append(registeredUsers)\n",
    "                columns6['State'].append(state)\n",
    "                columns6['Year'].append(year)\n",
    "                columns6['Quarter'].append(int(file.strip('.json')))\n",
    "df_top_user = pd.DataFrame(columns6) "
   ]
  },
  {
   "cell_type": "code",
   "execution_count": null,
   "id": "0a9745e6-206c-4af8-a1fa-d16248c74bac",
   "metadata": {},
   "outputs": [],
   "source": [
    "df_top_user"
   ]
  },
  {
   "cell_type": "code",
   "execution_count": null,
   "id": "0ac73b50-af80-42df-86e1-687c9860a57f",
   "metadata": {},
   "outputs": [],
   "source": [
    "df_agg_trans.to_csv('agg_trans.csv',index=False)\n",
    "df_agg_user.to_csv('agg_user.csv',index=False)\n",
    "df_map_trans.to_csv('map_trans.csv',index=False)\n",
    "df_map_user.to_csv('map_user.csv',index=False)\n",
    "df_top_trans.to_csv('top_trans.csv',index=False)\n",
    "df_top_user.to_csv('top_user.csv',index=False)"
   ]
  },
  {
   "cell_type": "code",
   "execution_count": null,
   "id": "fb54730e-642e-4b7e-9a7f-51ed214c02d2",
   "metadata": {},
   "outputs": [],
   "source": [
    "mydb = sql.connect(host=\"localhost\",\n",
    "                   user=\"root\",\n",
    "                   password=\"pswd\",\n",
    "                   database= \"ppp\"\n",
    "                  )\n",
    "mycursor = mydb.cursor(buffered=True)"
   ]
  },
  {
   "cell_type": "code",
   "execution_count": null,
   "id": "6284d059-458d-4df6-b6bc-15d57e9ddcea",
   "metadata": {},
   "outputs": [],
   "source": [
    "mycursor.execute(\"create table agg_trans (State varchar(100), Year int, Quarter int, Transaction_type varchar(100), Transaction_count int, Transaction_amount double)\")\n",
    "\n",
    "for i,row in df_agg_trans.iterrows():\n",
    "    sql = \"INSERT INTO agg_trans VALUES (%s,%s,%s,%s,%s,%s)\"\n",
    "    mycursor.execute(sql, tuple(row))\n",
    "    mydb.commit()"
   ]
  },
  {
   "cell_type": "code",
   "execution_count": null,
   "id": "66d19c94-60af-4101-9b7b-2240775a8b88",
   "metadata": {},
   "outputs": [],
   "source": [
    "mycursor.execute(\"create table agg_user (State varchar(100), Year int, Quarter int, Brands varchar(100), Count int, Percentage double)\")\n",
    "\n",
    "for i,row in df_agg_user.iterrows():\n",
    "    sql = \"INSERT INTO agg_user VALUES (%s,%s,%s,%s,%s,%s)\"\n",
    "    mycursor.execute(sql, tuple(row))\n",
    "    mydb.commit()"
   ]
  },
  {
   "cell_type": "code",
   "execution_count": null,
   "id": "d5ea5a65-3992-46f9-8c0d-93888d6ee723",
   "metadata": {},
   "outputs": [],
   "source": [
    "mycursor.execute(\"create table map_trans (State varchar(100), Year int, Quarter int, District varchar(100), Count int, Amount double)\")\n",
    "\n",
    "for i,row in df_map_trans.iterrows():\n",
    "    sql = \"INSERT INTO map_trans VALUES (%s,%s,%s,%s,%s,%s)\"\n",
    "    mycursor.execute(sql, tuple(row))\n",
    "    mydb.commit()"
   ]
  },
  {
   "cell_type": "code",
   "execution_count": null,
   "id": "f8c10afd-850a-4405-983d-c5892ed7e57c",
   "metadata": {},
   "outputs": [],
   "source": [
    "mycursor.execute(\"create table map_user (State varchar(100), Year int, Quarter int, District varchar(100), Registered_user int, App_opens int)\")\n",
    "\n",
    "for i,row in df_map_user.iterrows():\n",
    "    sql = \"INSERT INTO map_user VALUES (%s,%s,%s,%s,%s,%s)\"\n",
    "    mycursor.execute(sql, tuple(row))\n",
    "    mydb.commit()"
   ]
  },
  {
   "cell_type": "code",
   "execution_count": null,
   "id": "f360fe29-06f9-4e15-be92-90d837f80b15",
   "metadata": {},
   "outputs": [],
   "source": [
    "mycursor.execute(\"create table top_trans (State varchar(100), Year int, Quarter int, Pincode int, Transaction_count int, Transaction_amount double)\")\n",
    "\n",
    "for i,row in df_top_trans.iterrows():\n",
    "    sql = \"INSERT INTO top_trans VALUES (%s,%s,%s,%s,%s,%s)\"\n",
    "    mycursor.execute(sql, tuple(row))\n",
    "    mydb.commit()"
   ]
  },
  {
   "cell_type": "code",
   "execution_count": null,
   "id": "08e7f245-2cf1-40ef-9960-f02dbfa442ec",
   "metadata": {},
   "outputs": [],
   "source": [
    "mycursor.execute(\"create table top_user (State varchar(100), Year int, Quarter int, Pincode int, Registered_users int)\")\n",
    "\n",
    "for i,row in df_top_user.iterrows():\n",
    "    sql = \"INSERT INTO top_user VALUES (%s,%s,%s,%s,%s)\"\n",
    "    mycursor.execute(sql, tuple(row))\n",
    "    mydb.commit()"
   ]
  },
  {
   "cell_type": "code",
   "execution_count": null,
   "id": "c636d670-15fd-4450-a9b9-aa0a4623c67f",
   "metadata": {},
   "outputs": [],
   "source": [
    "mycursor.execute(\"show tables\")\n",
    "mycursor.fetchall()"
   ]
  }
 ],
 "metadata": {
  "kernelspec": {
   "display_name": "Python 3 (ipykernel)",
   "language": "python",
   "name": "python3"
  },
  "language_info": {
   "codemirror_mode": {
    "name": "ipython",
    "version": 3
   },
   "file_extension": ".py",
   "mimetype": "text/x-python",
   "name": "python",
   "nbconvert_exporter": "python",
   "pygments_lexer": "ipython3",
   "version": "3.9.13"
  }
 },
 "nbformat": 4,
 "nbformat_minor": 5
}
